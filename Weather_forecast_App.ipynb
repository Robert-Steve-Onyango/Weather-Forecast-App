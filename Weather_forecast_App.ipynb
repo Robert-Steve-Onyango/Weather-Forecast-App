{
  "nbformat": 4,
  "nbformat_minor": 0,
  "metadata": {
    "colab": {
      "provenance": []
    },
    "kernelspec": {
      "name": "python3",
      "display_name": "Python 3"
    },
    "language_info": {
      "name": "python"
    }
  },
  "cells": [
    {
      "cell_type": "code",
      "execution_count": null,
      "metadata": {
        "id": "TKWZTVV-xBiE"
      },
      "outputs": [],
      "source": [
        "import requests\n",
        "import json\n",
        "\n",
        "def get_weather_data(api_key, city):\n",
        "    \"\"\"Get weather data for a specific city using the OpenWeatherMap API.\"\"\"\n",
        "    base_url = \"http://api.openweathermap.org/data/2.5/weather\"\n",
        "    params = {\n",
        "        \"q\": city,\n",
        "        \"appid\": api_key,\n",
        "        \"units\": \"metric\"\n",
        "    }\n",
        "    response = requests.get(base_url, params=params)\n",
        "    data = response.json()\n",
        "    return data\n",
        "\n",
        "def display_weather(data):\n",
        "    \"\"\"Display weather information.\"\"\"\n",
        "    if data[\"cod\"] != \"404\":\n",
        "        city = data[\"name\"]\n",
        "        country = data[\"sys\"][\"country\"]\n",
        "        temperature = data[\"main\"][\"temp\"]\n",
        "        description = data[\"weather\"][0][\"description\"]\n",
        "        humidity = data[\"main\"][\"humidity\"]\n",
        "        wind_speed = data[\"wind\"][\"speed\"]\n",
        "\n",
        "        print(f\"Weather in {city}, {country}:\")\n",
        "        print(f\"Temperature: {temperature}°C\")\n",
        "        print(f\"Description: {description}\")\n",
        "        print(f\"Humidity: {humidity}%\")\n",
        "        print(f\"Wind Speed: {wind_speed} km/h\")\n",
        "    else:\n",
        "        print(\"City not found. Please try again.\")\n",
        "\n",
        "def main():\n",
        "    # API key from OpenWeatherMap\n",
        "    api_key = \"YOUR_API_KEY\"\n",
        "\n",
        "    # Get the city name from the user\n",
        "    city = input(\"Enter the city name: \")\n",
        "\n",
        "    # Get weather data for the city\n",
        "    weather_data = get_weather_data(api_key, city)\n",
        "\n",
        "    # Display weather information\n",
        "    display_weather(weather_data)\n",
        "\n",
        "if __name__ == \"__main__\":\n",
        "    main()"
      ]
    }
  ]
}